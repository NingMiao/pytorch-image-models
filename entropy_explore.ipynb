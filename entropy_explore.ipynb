{
 "cells": [
  {
   "cell_type": "code",
   "execution_count": 1,
   "metadata": {},
   "outputs": [],
   "source": [
    "import torch\n",
    "import numpy as np"
   ]
  },
  {
   "cell_type": "code",
   "execution_count": 41,
   "metadata": {},
   "outputs": [],
   "source": [
    "logit=torch.tensor([4.0, 2.0, 2.0, 2.0, 2.0, 0.0, 0, 1, 0], dtype=torch.float32, requires_grad=True)"
   ]
  },
  {
   "cell_type": "code",
   "execution_count": 42,
   "metadata": {},
   "outputs": [
    {
     "name": "stdout",
     "output_type": "stream",
     "text": [
      "tensor([-0.5358,  0.0919,  0.0919,  0.0919,  0.0919,  0.0347,  0.0347,  0.0641,\n",
      "         0.0347])\n"
     ]
    }
   ],
   "source": [
    "logit.grad=None\n",
    "logit_exp=torch.exp(logit)\n",
    "prob=logit_exp/logit_exp.sum()\n",
    "entropy=(-prob*torch.log(prob)).sum()\n",
    "entropy.backward()\n",
    "print(logit.grad)"
   ]
  },
  {
   "cell_type": "code",
   "execution_count": 43,
   "metadata": {},
   "outputs": [
    {
     "name": "stdout",
     "output_type": "stream",
     "text": [
      "tensor([-0.2553,  0.0518,  0.0518,  0.0518,  0.0518,  0.0086,  0.0086,  0.0222,\n",
      "         0.0086])\n"
     ]
    }
   ],
   "source": [
    "logit.grad=None\n",
    "logit_exp=torch.exp(logit)\n",
    "prob=logit_exp/logit_exp.sum()\n",
    "var=(-prob**2).sum()\n",
    "var.backward()\n",
    "print(logit.grad)"
   ]
  },
  {
   "cell_type": "code",
   "execution_count": 13,
   "metadata": {},
   "outputs": [],
   "source": []
  },
  {
   "cell_type": "code",
   "execution_count": null,
   "metadata": {},
   "outputs": [],
   "source": []
  }
 ],
 "metadata": {
  "kernelspec": {
   "display_name": "Python 3",
   "language": "python",
   "name": "python3"
  },
  "language_info": {
   "codemirror_mode": {
    "name": "ipython",
    "version": 3
   },
   "file_extension": ".py",
   "mimetype": "text/x-python",
   "name": "python",
   "nbconvert_exporter": "python",
   "pygments_lexer": "ipython3",
   "version": "3.8.10"
  }
 },
 "nbformat": 4,
 "nbformat_minor": 4
}
