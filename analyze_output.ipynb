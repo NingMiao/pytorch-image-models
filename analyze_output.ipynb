{
 "cells": [
  {
   "cell_type": "code",
   "execution_count": 1,
   "metadata": {},
   "outputs": [],
   "source": [
    "import numpy as np"
   ]
  },
  {
   "cell_type": "code",
   "execution_count": 89,
   "metadata": {},
   "outputs": [],
   "source": [
    "n=782\n",
    "target_list=[]\n",
    "sample_id_list=[]\n",
    "logit_list=[]\n",
    "logprob_list=[]\n",
    "for i in range(n):\n",
    "    target_list.append(np.load('output/target_'+str(i)+'.npy'))\n",
    "    sample_id_list.append(np.load('output/samples_id_'+str(i)+'.npy'))\n",
    "    logit_list.append(np.load('output/logit_'+str(i)+'.npy'))\n",
    "    logprob_=np.load('output/logprob_'+str(i)+'.npy')\n",
    "    logprob_list.append(logprob_.reshape(50, -1).T)"
   ]
  },
  {
   "cell_type": "code",
   "execution_count": 90,
   "metadata": {},
   "outputs": [],
   "source": [
    "target=np.concatenate(target_list)\n",
    "sample_id=np.concatenate(sample_id_list)\n",
    "logit=np.concatenate(logit_list)\n",
    "logprob=np.concatenate(logprob_list)"
   ]
  },
  {
   "cell_type": "code",
   "execution_count": 91,
   "metadata": {},
   "outputs": [
    {
     "data": {
      "text/plain": [
       "0.7872"
      ]
     },
     "execution_count": 91,
     "metadata": {},
     "output_type": "execute_result"
    }
   ],
   "source": [
    "np.mean(np.argmax(logit.mean(axis=1), -1)==target)"
   ]
  },
  {
   "cell_type": "code",
   "execution_count": 157,
   "metadata": {},
   "outputs": [
    {
     "name": "stdout",
     "output_type": "stream",
     "text": [
      "0.0 0.00096\n",
      "0.1 0.79136\n",
      "0.2 0.79328\n",
      "0.30000000000000004 0.79408\n",
      "0.4 0.79488\n",
      "0.5 0.79504\n",
      "0.6000000000000001 0.79488\n",
      "0.7000000000000001 0.79488\n",
      "0.8 0.79632\n",
      "0.9 0.79696\n",
      "1.0 0.79744\n",
      "1.1 0.79712\n",
      "1.2000000000000002 0.79728\n",
      "1.3 0.7976\n",
      "1.4000000000000001 0.79808\n",
      "1.5 0.79712\n",
      "1.6 0.79696\n",
      "1.7000000000000002 0.79664\n",
      "1.8 0.79632\n",
      "1.9000000000000001 0.79616\n"
     ]
    }
   ],
   "source": [
    "for i in range(20):\n",
    "    acc=np.mean(np.argmax(np.log(np.sum(np.exp(logit*0.1*i)*np.exp(np.expand_dims(logprob, -1)*0.1*4), axis=1)), -1)==target)\n",
    "    #acc=np.mean(np.argmax(np.sum(logit*np.exp(logprob.reshape(-1, 50, 1)*0.1*i), axis=1), -1)==target)\n",
    "    #acc=np.mean(np.argmax(logit[:,i,:], axis=-1)==target)\n",
    "    print(i*0.1, acc)"
   ]
  },
  {
   "cell_type": "code",
   "execution_count": 23,
   "metadata": {},
   "outputs": [
    {
     "data": {
      "text/plain": [
       "(40000, 1)"
      ]
     },
     "execution_count": 23,
     "metadata": {},
     "output_type": "execute_result"
    }
   ],
   "source": [
    "np.exp(np.expand_dims(logprob.reshape(), -1)*0.5).shape"
   ]
  },
  {
   "cell_type": "code",
   "execution_count": 79,
   "metadata": {},
   "outputs": [
    {
     "data": {
      "text/plain": [
       "array([0.00944119, 0.27161035, 0.00825591, 0.01013161, 0.01226162,\n",
       "       0.01273109, 0.00784586, 0.00803083, 0.00108166, 0.01153791,\n",
       "       0.01375314, 0.01037615, 0.01026264, 0.01376542, 0.0089599 ,\n",
       "       0.00115549, 0.00091253, 0.00946964, 0.00080083, 0.01161157,\n",
       "       0.00114465, 0.01212621, 0.01220938, 0.01148326, 0.00113672,\n",
       "       0.011853  , 0.00107455, 0.0007487 , 0.01470196, 0.01488104,\n",
       "       0.01372992, 0.01139705, 0.0088841 , 0.01071398, 0.00912526,\n",
       "       0.00955774, 0.00933605, 0.01014044, 0.01066163, 0.00108007,\n",
       "       0.01084374, 0.01095478, 0.00059321, 0.00082864, 0.00104476,\n",
       "       0.00859163, 0.00113271, 0.0011467 , 0.0114239 , 0.00974295],\n",
       "      dtype=float32)"
      ]
     },
     "execution_count": 79,
     "metadata": {},
     "output_type": "execute_result"
    }
   ],
   "source": [
    "np.exp(logprob)[0]"
   ]
  },
  {
   "cell_type": "code",
   "execution_count": 70,
   "metadata": {},
   "outputs": [
    {
     "data": {
      "text/plain": [
       "-1.3033867"
      ]
     },
     "execution_count": 70,
     "metadata": {},
     "output_type": "execute_result"
    }
   ],
   "source": [
    "logprob[0,1]"
   ]
  },
  {
   "cell_type": "code",
   "execution_count": 49,
   "metadata": {},
   "outputs": [
    {
     "data": {
      "text/plain": [
       "(800, 50)"
      ]
     },
     "execution_count": 49,
     "metadata": {},
     "output_type": "execute_result"
    }
   ],
   "source": [
    "sample_id.shape"
   ]
  },
  {
   "cell_type": "code",
   "execution_count": 50,
   "metadata": {},
   "outputs": [
    {
     "data": {
      "text/plain": [
       "(40000,)"
      ]
     },
     "execution_count": 50,
     "metadata": {},
     "output_type": "execute_result"
    }
   ],
   "source": [
    "logprob.shape"
   ]
  },
  {
   "cell_type": "code",
   "execution_count": 83,
   "metadata": {},
   "outputs": [
    {
     "data": {
      "text/plain": [
       "0"
      ]
     },
     "execution_count": 83,
     "metadata": {},
     "output_type": "execute_result"
    }
   ],
   "source": [
    "sample_id.min()"
   ]
  },
  {
   "cell_type": "code",
   "execution_count": 174,
   "metadata": {},
   "outputs": [],
   "source": [
    "def normalize(logprob):\n",
    "    prob=np.exp(np.array(logprob))\n",
    "    prob_min=np.min(prob)\n",
    "    prob_max=np.max(prob)\n",
    "    return (prob-prob_min)/(prob_max-prob_min)\n",
    "\n",
    "X=[]\n",
    "Y=[]\n",
    "\n",
    "l_n1=[]\n",
    "c_n1=[]\n",
    "for j in range(len(sample_id)):\n",
    "    l=[]\n",
    "    c=[]\n",
    "    for i in range(50):\n",
    "        id_=sample_id[j][i]\n",
    "        #if 196<=id_<=244:\n",
    "        if id_<=195:\n",
    "            l.append(logprob[j][i])\n",
    "            c.append(float(np.argmax(logit[j][i])==target[j]))\n",
    "        if id_==245:\n",
    "            l_n1.append(logprob[j][i])\n",
    "            c_n1.append(float(np.argmax(logit[j][i])==target[j]))\n",
    "    std=np.std(l)\n",
    "    if std>0.5:\n",
    "        x=normalize(l)\n",
    "        X.extend(list(x))\n",
    "        Y.extend(c)\n",
    "        #Y.append(np.max(c+[c_n1[-1]]))\n",
    "    \n",
    "X=np.array(X)\n",
    "Y=np.array(Y)\n",
    "l_n1=np.array(l_n1)\n",
    "c_n1=np.array(c_n1)"
   ]
  },
  {
   "cell_type": "code",
   "execution_count": 177,
   "metadata": {},
   "outputs": [
    {
     "data": {
      "text/plain": [
       "0.77376"
      ]
     },
     "execution_count": 177,
     "metadata": {},
     "output_type": "execute_result"
    }
   ],
   "source": [
    "c_n1.mean()"
   ]
  },
  {
   "cell_type": "code",
   "execution_count": 162,
   "metadata": {},
   "outputs": [
    {
     "data": {
      "text/plain": [
       "0.09604629730726603"
      ]
     },
     "execution_count": 162,
     "metadata": {},
     "output_type": "execute_result"
    }
   ],
   "source": [
    "def cov(X, Y):\n",
    "    X_normalize=(X-X.mean())/X.std()\n",
    "    Y_normalize=(Y-Y.mean())/Y.std()\n",
    "    return np.mean(X_normalize*Y_normalize)\n",
    "cov(l_n1,c_n1)"
   ]
  },
  {
   "cell_type": "code",
   "execution_count": 94,
   "metadata": {},
   "outputs": [
    {
     "data": {
      "text/plain": [
       "196"
      ]
     },
     "execution_count": 94,
     "metadata": {},
     "output_type": "execute_result"
    }
   ],
   "source": [
    "14*14"
   ]
  },
  {
   "cell_type": "code",
   "execution_count": 165,
   "metadata": {},
   "outputs": [
    {
     "data": {
      "text/plain": [
       "2.160949"
      ]
     },
     "execution_count": 165,
     "metadata": {},
     "output_type": "execute_result"
    }
   ],
   "source": [
    "np.mean(np.sum(-logprob*np.exp(logprob), axis=-1))"
   ]
  },
  {
   "cell_type": "code",
   "execution_count": null,
   "metadata": {},
   "outputs": [],
   "source": []
  }
 ],
 "metadata": {
  "kernelspec": {
   "display_name": "Python 3",
   "language": "python",
   "name": "python3"
  },
  "language_info": {
   "codemirror_mode": {
    "name": "ipython",
    "version": 3
   },
   "file_extension": ".py",
   "mimetype": "text/x-python",
   "name": "python",
   "nbconvert_exporter": "python",
   "pygments_lexer": "ipython3",
   "version": "3.8.10"
  }
 },
 "nbformat": 4,
 "nbformat_minor": 4
}
